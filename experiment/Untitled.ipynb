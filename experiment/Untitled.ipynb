{
 "cells": [
  {
   "cell_type": "code",
   "execution_count": 8,
   "id": "protecting-newman",
   "metadata": {},
   "outputs": [
    {
     "data": {
      "text/plain": [
       "10"
      ]
     },
     "execution_count": 8,
     "metadata": {},
     "output_type": "execute_result"
    }
   ],
   "source": [
    "data = \"India,Switzerland,United States,Japanese,Australia,China,French,England,Hong Kong,Singapore\"\n",
    "len(set(data.replace(' ','').split(',')))"
   ]
  },
  {
   "cell_type": "code",
   "execution_count": 10,
   "id": "51b1cb7a",
   "metadata": {},
   "outputs": [
    {
     "name": "stdout",
     "output_type": "stream",
     "text": [
      "22\n",
      ",Singapore,Switzerland,Japanese,Finnish,Danish,France,Canada,Polish,Australia,India,Bangladesh,French,HongKong,China,Athens,UnitedStates,England,Greece,SriLanka,SouthKorea,UnitedKingdom\n"
     ]
    }
   ],
   "source": [
    "data=\"\"\"Hong Kong, Australia,United Kingdom,France,Greece,China,Canada,Singapore,Japanese,United States,Bangladesh,Greece,Sri Lanka,Bangladesh,Polish\n",
    "Australia, Hong Kong, China, United Kingdom,United States,Japanese,Canada,Polish\n",
    "Australia, China, United States,Polish,Canada,Singapore,United Kingdom, Hong Kong\n",
    "Australia,China,Singapore,United States\n",
    "Australia,China,Singapore,Danish,Hong Kong,France,Finnish,United States,South Korea,India\n",
    "India,Switzerland,United States,Japanese,Australia,China,French,England,Hong Kong,Singapore\n",
    "Australia,China,United States,Hong Kong,\n",
    "Australia,China\n",
    "Australia,China,United States\n",
    "Australia,China\n",
    "Australia,Athens,Canada\n",
    "Australia\n",
    "China\n",
    "Australia\n",
    "\"\"\"\n",
    "\n",
    "data = data.replace(' ', '')\n",
    "data = data.split('\\n')\n",
    "\n",
    "res = set()\n",
    "\n",
    "for line in data:\n",
    "    for d in line.split(','):\n",
    "        res.add(d)\n",
    "\n",
    "print(len(res))\n",
    "print(\",\".join(list(res)))"
   ]
  },
  {
   "cell_type": "code",
   "execution_count": null,
   "id": "a2909317",
   "metadata": {},
   "outputs": [],
   "source": []
  }
 ],
 "metadata": {
  "kernelspec": {
   "display_name": "Python 3 (ipykernel)",
   "language": "python",
   "name": "python3"
  },
  "language_info": {
   "codemirror_mode": {
    "name": "ipython",
    "version": 3
   },
   "file_extension": ".py",
   "mimetype": "text/x-python",
   "name": "python",
   "nbconvert_exporter": "python",
   "pygments_lexer": "ipython3",
   "version": "3.9.7"
  }
 },
 "nbformat": 4,
 "nbformat_minor": 5
}
